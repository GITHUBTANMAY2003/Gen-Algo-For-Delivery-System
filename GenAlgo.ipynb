{
 "cells": [
  {
   "cell_type": "code",
   "execution_count": 3,
   "id": "4bddcbbd-8d0d-40b4-aa95-786bfdd3ac3c",
   "metadata": {},
   "outputs": [],
   "source": [
    "import random\n",
    "import matplotlib.pyplot as plt\n",
    "from deap import tools,base,creator,algorithms"
   ]
  },
  {
   "cell_type": "code",
   "execution_count": null,
   "id": "facab336-fd94-4732-aecf-cf26026f3b93",
   "metadata": {},
   "outputs": [],
   "source": []
  }
 ],
 "metadata": {
  "kernelspec": {
   "display_name": "Python 3 (ipykernel)",
   "language": "python",
   "name": "python3"
  },
  "language_info": {
   "codemirror_mode": {
    "name": "ipython",
    "version": 3
   },
   "file_extension": ".py",
   "mimetype": "text/x-python",
   "name": "python",
   "nbconvert_exporter": "python",
   "pygments_lexer": "ipython3",
   "version": "3.12.3"
  }
 },
 "nbformat": 4,
 "nbformat_minor": 5
}
